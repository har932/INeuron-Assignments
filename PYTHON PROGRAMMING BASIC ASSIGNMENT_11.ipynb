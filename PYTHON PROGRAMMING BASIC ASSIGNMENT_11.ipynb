{
 "cells": [
  {
   "cell_type": "markdown",
   "id": "1e8d9d59",
   "metadata": {},
   "source": [
    "1. Write a Python program to find words which are greater than given length k?"
   ]
  },
  {
   "cell_type": "code",
   "execution_count": 1,
   "id": "f3718f93",
   "metadata": {},
   "outputs": [
    {
     "name": "stdout",
     "output_type": "stream",
     "text": [
      "['name', 'Rii']\n"
     ]
    }
   ],
   "source": [
    "def string_k(k,str):\n",
    "    string = []\n",
    "    text = str.split(\" \")\n",
    "    for x in text:\n",
    "        if len(x) > k:\n",
    "            string.append(x)\n",
    "    return string\n",
    "k = 2\n",
    "str = 'My name is Rii'\n",
    "print(string_k(k,str))"
   ]
  },
  {
   "cell_type": "markdown",
   "id": "71203158",
   "metadata": {},
   "source": [
    "2. Write a Python program for removing i-th character from a string?"
   ]
  },
  {
   "cell_type": "code",
   "execution_count": 2,
   "id": "b1b09687",
   "metadata": {},
   "outputs": [
    {
     "name": "stdout",
     "output_type": "stream",
     "text": [
      "Myname is Rii\n"
     ]
    }
   ],
   "source": [
    "def remove(string, i):\n",
    "    a = string[ :i]\n",
    "    b = string[i + 1:]\n",
    "    return a + b\n",
    "if __name__ == '__main__':\n",
    "    string = \"My name is Rii\"\n",
    "    i = 2\n",
    "    print(remove(string,i))"
   ]
  },
  {
   "cell_type": "markdown",
   "id": "28384486",
   "metadata": {},
   "source": [
    "3. Write a Python program to split and join a string?"
   ]
  },
  {
   "cell_type": "code",
   "execution_count": 3,
   "id": "b9b3fdfb",
   "metadata": {},
   "outputs": [
    {
     "name": "stdout",
     "output_type": "stream",
     "text": [
      "['My', 'name', 'is', 'Rii']\n",
      "My-name-is-Rii\n"
     ]
    }
   ],
   "source": [
    "s = 'My name is Rii'\n",
    "print(s.split(\" \"))\n",
    "print(\"-\".join(s.split()))"
   ]
  },
  {
   "cell_type": "markdown",
   "id": "8f8fb4c0",
   "metadata": {},
   "source": [
    "4. Write a Python program to check if a given string is binary string or not?"
   ]
  },
  {
   "cell_type": "code",
   "execution_count": 4,
   "id": "abe99058",
   "metadata": {},
   "outputs": [
    {
     "name": "stdout",
     "output_type": "stream",
     "text": [
      "yes\n"
     ]
    }
   ],
   "source": [
    "def check(string):\n",
    "    p = set(string)\n",
    "    s = {'0','1'}\n",
    "    if s == p or p == {'0'} or p == {'1'}:\n",
    "        print(\"yes\")\n",
    "    else:\n",
    "        print(\"no\")\n",
    "if __name__ == \"__main__\":\n",
    "    string = \"101010000111\"\n",
    "    check(string)"
   ]
  },
  {
   "cell_type": "markdown",
   "id": "e8cc2cec",
   "metadata": {},
   "source": [
    "5. Write a Python program to find uncommon words from two Strings?"
   ]
  },
  {
   "cell_type": "code",
   "execution_count": 5,
   "id": "9cb3dc40",
   "metadata": {},
   "outputs": [
    {
     "name": "stdout",
     "output_type": "stream",
     "text": [
      " apple pineapple mango kiwi\n"
     ]
    }
   ],
   "source": [
    "def uncommon(a,b):\n",
    "    list_a = a.split()\n",
    "    list_b = b.split()\n",
    "    uc = ''\n",
    "    for i in list_a:\n",
    "        if i not in list_b:\n",
    "            uc = uc + \" \" +i\n",
    "    for j in list_b:\n",
    "        if j not in list_a:\n",
    "            uc = uc + \" \" +j\n",
    "    return uc\n",
    "a = \"apple banana pineapple\"\n",
    "b = \"banana mango kiwi\"\n",
    "print(uncommon(a,b))"
   ]
  },
  {
   "cell_type": "markdown",
   "id": "4c3278bc",
   "metadata": {},
   "source": [
    "6. Write a Python program to find all duplicate characters in string?"
   ]
  },
  {
   "cell_type": "code",
   "execution_count": 6,
   "id": "e40422bf",
   "metadata": {},
   "outputs": [
    {
     "name": "stdout",
     "output_type": "stream",
     "text": [
      "A\n",
      "p\n",
      "l\n",
      "e\n",
      " \n"
     ]
    }
   ],
   "source": [
    "from collections import Counter\n",
    "def find_dup_char(input):\n",
    "    wc = Counter(input)\n",
    "    for letter, count in wc.items():\n",
    "        if (count > 1):\n",
    "            print(letter)\n",
    "if __name__ == \"__main__\":\n",
    "    input = 'Apple mango Apple'\n",
    "    find_dup_char(input)"
   ]
  },
  {
   "cell_type": "markdown",
   "id": "050c35b2",
   "metadata": {},
   "source": [
    "7. Write a Python Program to check if a string contains any special character?"
   ]
  },
  {
   "cell_type": "code",
   "execution_count": 8,
   "id": "e2db4ed9",
   "metadata": {},
   "outputs": [
    {
     "name": "stdout",
     "output_type": "stream",
     "text": [
      "String has special characters\n"
     ]
    }
   ],
   "source": [
    "n = \"My@Name$is*Rii\"\n",
    "n.split()\n",
    "c = 0\n",
    "s = '[@!#$%^&*()_/?<>]'\n",
    "for i in range(len(n)):\n",
    "    if n[i] in s:\n",
    "        c+=1\n",
    "if c:\n",
    "    print(\"String has special characters\")\n",
    "else:\n",
    "    print(\"String does not have special characters\")"
   ]
  },
  {
   "cell_type": "code",
   "execution_count": null,
   "id": "2f65a908",
   "metadata": {},
   "outputs": [],
   "source": []
  }
 ],
 "metadata": {
  "kernelspec": {
   "display_name": "Python 3 (ipykernel)",
   "language": "python",
   "name": "python3"
  },
  "language_info": {
   "codemirror_mode": {
    "name": "ipython",
    "version": 3
   },
   "file_extension": ".py",
   "mimetype": "text/x-python",
   "name": "python",
   "nbconvert_exporter": "python",
   "pygments_lexer": "ipython3",
   "version": "3.9.7"
  }
 },
 "nbformat": 4,
 "nbformat_minor": 5
}
