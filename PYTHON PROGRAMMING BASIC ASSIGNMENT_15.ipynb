{
 "cells": [
  {
   "cell_type": "markdown",
   "id": "b7c73254",
   "metadata": {},
   "source": [
    "Question 1:\n",
    "Please write a program using generator to print the numbers which can be divisible by 5 and\n",
    "7 between 0 and n in comma separated form while n is input by console."
   ]
  },
  {
   "cell_type": "code",
   "execution_count": 6,
   "id": "d5858f21",
   "metadata": {},
   "outputs": [
    {
     "name": "stdout",
     "output_type": "stream",
     "text": [
      "100\n",
      "['0', '35', '70']\n"
     ]
    }
   ],
   "source": [
    "def NumGenerator(n):\n",
    "    for i in range(n+1):\n",
    "        if i%5==0 and i%7==0:\n",
    "            yield i\n",
    "        \n",
    "n = int(input())\n",
    "values = []\n",
    "for i in NumGenerator(n):\n",
    "    values.append(str(i))\n",
    "    \n",
    "print(values)"
   ]
  },
  {
   "cell_type": "markdown",
   "id": "66d242cd",
   "metadata": {},
   "source": [
    "Question 2:\n",
    "Please write a program using generator to print the even numbers between 0 and n in comma\n",
    "separated form while n is input by console."
   ]
  },
  {
   "cell_type": "code",
   "execution_count": 7,
   "id": "ab35d323",
   "metadata": {},
   "outputs": [
    {
     "name": "stdout",
     "output_type": "stream",
     "text": [
      "10\n",
      "['0', '2', '4', '6', '8', '10']\n"
     ]
    }
   ],
   "source": [
    "def Even_NumGenerator(n):\n",
    "    for i in range(n+1):\n",
    "        if i %2==0:\n",
    "            yield i\n",
    "            \n",
    "n = int(input())\n",
    "values = []\n",
    "for i in Even_NumGenerator(n):\n",
    "    values.append(str(i))\n",
    "    \n",
    "print(values)"
   ]
  },
  {
   "cell_type": "markdown",
   "id": "72cfa58b",
   "metadata": {},
   "source": [
    "Question 3:\n",
    "The Fibonacci Sequence is computed based on the following formula:\n",
    "f(n)=0 if n=0\n",
    "f(n)=1 if n=1\n",
    "f(n)=f(n-1)+f(n-2) if n&gt;1\n",
    "Please write a program using list comprehension to print the Fibonacci Sequence in comma\n",
    "separated form with a given n input by console."
   ]
  },
  {
   "cell_type": "code",
   "execution_count": 9,
   "id": "f980ad2d",
   "metadata": {},
   "outputs": [
    {
     "name": "stdout",
     "output_type": "stream",
     "text": [
      "7\n",
      "['0', '1', '1', '2', '3', '5', '8', '13']\n"
     ]
    }
   ],
   "source": [
    "def f(n):\n",
    "    if n==0:\n",
    "        return 0\n",
    "    elif n==1:\n",
    "        return 1\n",
    "    else:\n",
    "        return f(n-1)+f(n-2)\n",
    "n = int(input())\n",
    "values = [str(f(x)) for x in range(0, n+1)]\n",
    "print(values)"
   ]
  },
  {
   "cell_type": "markdown",
   "id": "63a6f6d1",
   "metadata": {},
   "source": [
    "Question 4:\n",
    "Assuming that we have some email addresses in the &quot;username@companyname.com&quot; format,\n",
    "please write program to print the user name of a given email address. Both user names and\n",
    "company names are composed of letters only."
   ]
  },
  {
   "cell_type": "code",
   "execution_count": 11,
   "id": "15af6ea1",
   "metadata": {},
   "outputs": [
    {
     "name": "stdout",
     "output_type": "stream",
     "text": [
      "john@google.com\n",
      "google\n"
     ]
    }
   ],
   "source": [
    "import re\n",
    "emailAddress = input()\n",
    "pat2 = \"(\\w+)@(\\w+)\\.(com)\"\n",
    "r2 = re.match(pat2,emailAddress)\n",
    "print(r2.group(2))"
   ]
  },
  {
   "cell_type": "markdown",
   "id": "72398266",
   "metadata": {},
   "source": [
    "Question 5:\n",
    "Define a class named Shape and its subclass Square. The Square class has an init function\n",
    "which takes a length as argument. Both classes have a area function which can print the area\n",
    "of the shape where Shape&#39;s area is 0 by default."
   ]
  },
  {
   "cell_type": "code",
   "execution_count": 14,
   "id": "97144054",
   "metadata": {},
   "outputs": [
    {
     "name": "stdout",
     "output_type": "stream",
     "text": [
      "25\n",
      "0\n"
     ]
    }
   ],
   "source": [
    "class Shape():\n",
    "    def __init__(self):\n",
    "        pass\n",
    "\n",
    "    def area(self):\n",
    "        return 0\n",
    "\n",
    "class Square(Shape):\n",
    "    def __init__(self,length = 0):\n",
    "        Shape.__init__(self)\n",
    "        self.length = length\n",
    "\n",
    "    def area(self):\n",
    "        return self.length*self.length\n",
    "\n",
    "Asqr = Square(5)\n",
    "print(Asqr.area())      # prints 25 as given argument\n",
    "\n",
    "print(Square().area())  # prints zero as default area"
   ]
  },
  {
   "cell_type": "code",
   "execution_count": null,
   "id": "5fe3802b",
   "metadata": {},
   "outputs": [],
   "source": []
  }
 ],
 "metadata": {
  "kernelspec": {
   "display_name": "Python 3 (ipykernel)",
   "language": "python",
   "name": "python3"
  },
  "language_info": {
   "codemirror_mode": {
    "name": "ipython",
    "version": 3
   },
   "file_extension": ".py",
   "mimetype": "text/x-python",
   "name": "python",
   "nbconvert_exporter": "python",
   "pygments_lexer": "ipython3",
   "version": "3.9.7"
  }
 },
 "nbformat": 4,
 "nbformat_minor": 5
}
