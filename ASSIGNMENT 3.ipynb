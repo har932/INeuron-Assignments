{
 "cells": [
  {
   "cell_type": "markdown",
   "id": "4b8481da",
   "metadata": {},
   "source": [
    "1.Why are functions advantageous to have in your programs?\n",
    "Ans: Advantages of having functions in a code are as follows:\n",
    "    > Divides the function into smaller portions and hence prevents breaking down of the entire code.\n",
    "    > Logic for a particular job need not be rewritten and encapsulating it in a function makes it callable.\n",
    "    > Encapsulation in a function has the advantage of being callable with different inputs."
   ]
  },
  {
   "cell_type": "markdown",
   "id": "19145246",
   "metadata": {},
   "source": [
    "2.When does the code in a function run: when it's specified or when it's called?\n",
    "Ans: The code in a function runs only when it is called."
   ]
  },
  {
   "cell_type": "markdown",
   "id": "4c240064",
   "metadata": {},
   "source": [
    "3.What statement creates a function?\n",
    "Ans: A function is created by the following statement:\n",
    "    def {function_name}:"
   ]
  },
  {
   "cell_type": "markdown",
   "id": "f18941dc",
   "metadata": {},
   "source": [
    "4.What is the difference between a function and a function call?\n",
    "Ans: Function: is a small segment of a code written for a particular portion or logic. it can be created using the following statement.\n",
    "    def {function_name}:\n",
    "    ex: def add(a,b):\n",
    "            {Body}\n",
    "    Function call: is when the function is called in order to perform the calculation. a function is called using its name.\n",
    "    function_name(input)\n",
    "    add(4,5)"
   ]
  },
  {
   "cell_type": "markdown",
   "id": "80db254c",
   "metadata": {},
   "source": [
    "5.How many global scopes are there in a Python program? How many local scopes?\n",
    "Ans:A Global scope is a variable type that can be accessed fom anywhere within the code. There is only one global scope in     a program. in order to declare a variable as a global variable, the keyword global can be used if the variable is being \n",
    "    declared inside a code block. Else if it is declared outside any code block, then it need not use Global keyword.\n",
    "    A local scope is declared inside a function and its scope is terminated once the function is terminated and \n",
    "    cannot be accessed further. \n",
    "    Ex:\n",
    "        name =\" \"\n",
    "        def concat():\n",
    "            second_str = \" \"\n",
    "    Here, name variable has global scope while second_str has local scope."
   ]
  },
  {
   "cell_type": "markdown",
   "id": "66001177",
   "metadata": {},
   "source": [
    "6.What happens to variables in a local scope when the function call returns?\n",
    "Ans: When function call returns, the scope of the variable is over and cannot be accessed any further."
   ]
  },
  {
   "cell_type": "markdown",
   "id": "7e2312f9",
   "metadata": {},
   "source": [
    "7.What is the concept of a return value? Is it possible to have a return value in an expression?\n",
    "Ans: Return Value means the end value returned by a function after processing through the expression inside it. An              expression cannot be a return value, but its end result can be a return value."
   ]
  },
  {
   "cell_type": "markdown",
   "id": "bd9c8d2b",
   "metadata": {},
   "source": [
    "8.If a function does not have a return statement, what is the return value of a call to that function?\n",
    "Ans:If a function does not have a return statement then it returns void. "
   ]
  },
  {
   "cell_type": "markdown",
   "id": "844e92d5",
   "metadata": {},
   "source": [
    "9.How do you make a function variable refer to the global variable?\n",
    "Ans: A function variable can be referred to a global variable by using the Global keyword."
   ]
  },
  {
   "cell_type": "markdown",
   "id": "3d7e8196",
   "metadata": {},
   "source": [
    "10.What is the data type of None?\n",
    "Ans: The data type of None is of None Class."
   ]
  },
  {
   "cell_type": "markdown",
   "id": "ad766c17",
   "metadata": {},
   "source": [
    "Q11.What does the sentence import areallyourpetsnamederic do?\n",
    "Ans:"
   ]
  },
  {
   "cell_type": "markdown",
   "id": "78da0317",
   "metadata": {},
   "source": [
    "Q12.If you had a bacon() feature in a spam module, what would you call it after importing spam?\n",
    "Ans:"
   ]
  },
  {
   "cell_type": "markdown",
   "id": "15617586",
   "metadata": {},
   "source": [
    "Q13.What can you do to save a programme from crashing if it encounters an error?\n",
    "Ans: Divide the program into smaller modules called functions. Raise custom error wherever suspected."
   ]
  },
  {
   "cell_type": "markdown",
   "id": "03b7f82a",
   "metadata": {},
   "source": [
    "Q14.What is the purpose of the try clause? What is the purpose of the except clause?\n",
    "Ans: Try clause tries out a code/block of code inside it and shows the result. If some error arises in the try block, \n",
    "     then control goes to the except block where the error is handled."
   ]
  }
 ],
 "metadata": {
  "kernelspec": {
   "display_name": "Python 3",
   "language": "python",
   "name": "python3"
  },
  "language_info": {
   "codemirror_mode": {
    "name": "ipython",
    "version": 3
   },
   "file_extension": ".py",
   "mimetype": "text/x-python",
   "name": "python",
   "nbconvert_exporter": "python",
   "pygments_lexer": "ipython3",
   "version": "3.8.8"
  }
 },
 "nbformat": 4,
 "nbformat_minor": 5
}
