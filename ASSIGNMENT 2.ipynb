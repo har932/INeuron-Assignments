{
 "cells": [
  {
   "cell_type": "markdown",
   "id": "6feef5cb",
   "metadata": {},
   "source": [
    "1.What are the two values of the Boolean data type? How do you write them?\n",
    "Ans: The two types of Boolean values i.e – True and False. They are written as strings, without the double quotes. \n",
    " "
   ]
  },
  {
   "cell_type": "markdown",
   "id": "5fdbe5fb",
   "metadata": {},
   "source": [
    "2. What are the three different types of Boolean operators?\n",
    "Ans: There are 3 types of Boolean operators. i.e AND, OR ,NOT\n"
   ]
  },
  {
   "cell_type": "markdown",
   "id": "0e25992a",
   "metadata": {},
   "source": [
    "3. Make a list of each Boolean operator's truth tables (i.e. every possible combination of Boolean values for the operator \n",
    "     #and what it evaluate ).\n",
    "Ans : \n",
    "\n",
    " Combination (using and)\t                  Meaning\n",
    "  True and True\t                               True\n",
    "  True and False\t                           False\n",
    "  False and False\t                           False      \n",
    "  False and True\t                           False\n",
    "\n",
    "\n",
    "Combination (using or)\t                       Meaning\n",
    "True and True\t                               True\n",
    "True and False\t                               True\n",
    "False and False\t                               False\n",
    "False and True\t                               True"
   ]
  },
  {
   "cell_type": "markdown",
   "id": "aa5b2f72",
   "metadata": {},
   "source": [
    "4. What are the values of the following expressions?\n",
    "(5 > 4) and (3 == 5)                          False\n",
    "not (5 > 4)                                   False\n",
    "(5 > 4) or (3 == 5)                           True\n",
    "not ((5 > 4) or (3 == 5))                     False\n",
    "(True and True) and (True == False)           False\n",
    "(not False) or (not True)                     False"
   ]
  },
  {
   "cell_type": "markdown",
   "id": "33ded490",
   "metadata": {},
   "source": [
    "5. What are the six comparison operators?\n",
    "Ans: i) = (equal to) , ii) > (greater than) , iii) <(less than), iv) != (not equal to), \n",
    "        v) >=(greater than equal   to), vi) <=(less than equal to)."
   ]
  },
  {
   "cell_type": "markdown",
   "id": "60e44787",
   "metadata": {},
   "source": [
    "6. How do you tell the difference between the equal to and assignment operators?Describe a condition and when you would use one.\n",
    "Ans : Equal to operator is used to compare two values: \n",
    "i.e a= 2, b= 6\n",
    "    if a == b:\n",
    "        print(True)\n",
    "        \n",
    "        Assignment operator is uesd to assign to a variable\n",
    "        eg. a = \"Akshay\""
   ]
  },
  {
   "cell_type": "markdown",
   "id": "84965d31",
   "metadata": {},
   "source": [
    "7. Identify the three blocks in this code:\n",
    "Ans spam = 0\n",
    "    if spam == 10:\n",
    "        print('eggs')\n",
    "    #Above is block 1\n",
    "    if spam > 5:\n",
    "        print('bacon')\n",
    "    #Above is block 2\n",
    "    else:\n",
    "        print('ham')\n",
    "    #Above is block 3\n",
    "    print('spam')\n",
    "    print('spam')"
   ]
  },
  {
   "cell_type": "markdown",
   "id": "b4996ecb",
   "metadata": {},
   "source": [
    "8. Write code that prints Hello if 1 is stored in spam, prints Howdy if 2 is stored in spam, and prints Greetings! if anything else is stored in spam.\n",
    "#Ans: \n",
    "msg = int(input(\"Enter a number\"))\n",
    "if msg == 1:\n",
    "    print(\"Hello\")\n",
    "elif msg == 2:\n",
    "    print(\"Howdy\")\n",
    "else:\n",
    "    print(\"Greetings\")"
   ]
  },
  {
   "cell_type": "markdown",
   "id": "ae44c9eb",
   "metadata": {},
   "source": [
    "9.If your programme is stuck in an endless loop, what keys you’ll press?\n",
    "Ans: Ctrl + C (i.e STOP the Programme)"
   ]
  },
  {
   "cell_type": "markdown",
   "id": "d155bf9d",
   "metadata": {},
   "source": [
    "10. How can you tell the difference between break and continue?\n",
    "Ans: Break terminates the loop if the condition is met, \n",
    "    while continue is used to skip the remaining part of the loop and continue to the next iteration of the  program."
   ]
  },
  {
   "cell_type": "markdown",
   "id": "a2d8def2",
   "metadata": {},
   "source": [
    "11. In a for loop, what is the difference between range(10), range(0, 10), and range(0, 10, 1)?\n",
    "Ans: range(10): starts the loop at 0 and ends at 9, i.e always the the less number than value mentioned\n",
    "    range(0,10): starts the loop at 0 and ends at 9, same as above.\n",
    "    range(0,10,1): starts the loop at 0, ends at 9,i.e 1 in this indicates that alternate of 1."
   ]
  },
  {
   "cell_type": "markdown",
   "id": "b0029f0c",
   "metadata": {},
   "source": [
    "12. Write a short program that prints the numbers 1 to 10 using a for loop. \n",
    "for i in range(1,11):\n",
    "    print(i)\n"
   ]
  },
  {
   "cell_type": "markdown",
   "id": "3808f30f",
   "metadata": {},
   "source": [
    "13. If you had a function named bacon() inside a module named spam, how would you call it after importing spam?\n",
    "Ans:here is the syntax : classname.function_name()\n",
    "    "
   ]
  }
 ],
 "metadata": {
  "kernelspec": {
   "display_name": "Python 3 (ipykernel)",
   "language": "python",
   "name": "python3"
  },
  "language_info": {
   "codemirror_mode": {
    "name": "ipython",
    "version": 3
   },
   "file_extension": ".py",
   "mimetype": "text/x-python",
   "name": "python",
   "nbconvert_exporter": "python",
   "pygments_lexer": "ipython3",
   "version": "3.9.7"
  }
 },
 "nbformat": 4,
 "nbformat_minor": 5
}
