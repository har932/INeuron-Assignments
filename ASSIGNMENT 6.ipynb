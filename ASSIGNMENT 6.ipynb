{
 "cells": [
  {
   "cell_type": "markdown",
   "id": "4e398e14",
   "metadata": {},
   "source": [
    "1.What are escape characters, and how do you use them?\n",
    "Ans: Escape characters are special characters that allow us to perform special functions which otherwise would not have   been allowed by the normal rules of python. Ex- using quotes within qoutes, changing a new line, or introducing a tab.\n",
    "    \\\"\\\"- is used to introduce a string within a quotes within another outer qoutes.\n",
    "    \\n-change a new line.\n",
    "    \\t - introduce a tab space."
   ]
  },
  {
   "cell_type": "markdown",
   "id": "f8408bb7",
   "metadata": {},
   "source": [
    "2.What do the escape characters n and t stand for?\n",
    "Ans:\\n- represents changing to a new line.\n",
    "    \\t - represents introducing a tab space."
   ]
  },
  {
   "cell_type": "markdown",
   "id": "d4b93c0c",
   "metadata": {},
   "source": [
    "3.What is the way to include backslash characters in a string?\n",
    "Ans:"
   ]
  },
  {
   "cell_type": "markdown",
   "id": "8cd6b745",
   "metadata": {},
   "source": [
    "4.The string \"Howl's Moving Castle\" is a correct value. Why isn't the single quote character in the word Howl's not escaped a problem?\n",
    "Ans:This is because it has been introduced using a escape character. In terms of Code, it has been written in the following     way:- \"Howl\\'s Moving Castle\""
   ]
  },
  {
   "cell_type": "markdown",
   "id": "48801926",
   "metadata": {},
   "source": [
    "5.How do you write a string of newlines if you don't want to use the n character?\n",
    "Ans:"
   ]
  },
  {
   "cell_type": "markdown",
   "id": "d18057aa",
   "metadata": {},
   "source": [
    "6.What are the values of the given expressions?\n",
    "Ans:\n",
    "'Hello, world!'[1] - e\n",
    "'Hello, world!'[0:5] - Hello\n",
    "'Hello, world!'[:5] - Hello\n",
    "'Hello, world!'[3:] - lo,World"
   ]
  },
  {
   "cell_type": "markdown",
   "id": "ef946c93",
   "metadata": {},
   "source": [
    "7.What are the values of the following expressions?\n",
    "Ans:\n",
    "'Hello'.upper() - HELLo\n",
    "'Hello'.upper().isupper() - True\n",
    "'Hello'.upper().lower() - False"
   ]
  },
  {
   "cell_type": "markdown",
   "id": "cb0ba622",
   "metadata": {},
   "source": [
    "8.What are the values of the following expressions?\n",
    "Ans:\n",
    "'Remember, remember, the fifth of July.'.split() - ['Remember,', 'remember,', 'the', 'fifth', 'of', 'July.']\n",
    "'-'.join('There can only one.'.split())          - 'There-can-only-one.'"
   ]
  },
  {
   "cell_type": "code",
   "execution_count": 7,
   "id": "d5516096",
   "metadata": {},
   "outputs": [
    {
     "data": {
      "text/plain": [
       "['Remember,', 'remember,', 'the', 'fifth', 'of', 'July.']"
      ]
     },
     "execution_count": 7,
     "metadata": {},
     "output_type": "execute_result"
    }
   ],
   "source": [
    "'Remember, remember, the fifth of July.'.split()"
   ]
  },
  {
   "cell_type": "code",
   "execution_count": 8,
   "id": "a8c5177a",
   "metadata": {},
   "outputs": [
    {
     "data": {
      "text/plain": [
       "'There-can-only-one.'"
      ]
     },
     "execution_count": 8,
     "metadata": {},
     "output_type": "execute_result"
    }
   ],
   "source": [
    "'-'.join('There can only one.'.split())"
   ]
  },
  {
   "cell_type": "markdown",
   "id": "c5ddcb56",
   "metadata": {},
   "source": [
    "9.What are the methods for right-justifying, left-justifying, and centering a string?\n",
    "Ans: Right justifying:\n",
    "        intro = \"Hello, I am Harish Shrinivas\"\n",
    "        print(intro.rjust(60,\" \"))\n",
    "     Left justifying:\n",
    "        intro = \"Hello, I am Harish Shrinivas\"\n",
    "        print(intro.ljust(60,\" \"))\n",
    "     centering:\n",
    "        intro = \"Hello, I am Harish Shrinivas\"\n",
    "        print(intro.center(60,\" \"))\n",
    "     The justifyings wont work if width of justification is less than the width of the string."
   ]
  },
  {
   "cell_type": "code",
   "execution_count": 9,
   "id": "51a7a349",
   "metadata": {},
   "outputs": [
    {
     "name": "stdout",
     "output_type": "stream",
     "text": [
      "                                Hello, I am Harish Shrinivas\n"
     ]
    }
   ],
   "source": [
    "# Right justifying:\n",
    "intro = \"Hello, I am Harish Shrinivas\"\n",
    "print(intro.rjust(60,\" \"))"
   ]
  },
  {
   "cell_type": "code",
   "execution_count": 11,
   "id": "9b0b11bb",
   "metadata": {},
   "outputs": [
    {
     "name": "stdout",
     "output_type": "stream",
     "text": [
      "Hello, I am Harish Shrinivas                                \n"
     ]
    }
   ],
   "source": [
    "# Left justifying:\n",
    "intro = \"Hello, I am Harish Shrinivas\"\n",
    "print(intro.ljust(60,\" \"))"
   ]
  },
  {
   "cell_type": "code",
   "execution_count": 12,
   "id": "04169b02",
   "metadata": {},
   "outputs": [
    {
     "name": "stdout",
     "output_type": "stream",
     "text": [
      "                Hello, I am Harish Shrinivas                \n"
     ]
    }
   ],
   "source": [
    "# centering:\n",
    "intro = \"Hello, I am Harish Shrinivas\"\n",
    "print(intro.center(60,\" \"))"
   ]
  },
  {
   "cell_type": "markdown",
   "id": "156137c1",
   "metadata": {},
   "source": [
    "10.What is the best way to remove whitespace characters from the start or end?\n",
    "Ans:The whitespaces at the start and the end can be removed by using the str.strip() method.\n",
    "    intro = \"      Hello, I am Harish Shrinivas     \"\n",
    "    intro1 = intro.strip()\n",
    "    intro1"
   ]
  },
  {
   "cell_type": "code",
   "execution_count": 13,
   "id": "d19145d3",
   "metadata": {},
   "outputs": [
    {
     "data": {
      "text/plain": [
       "'Hello, I am Harish Shrinivas'"
      ]
     },
     "execution_count": 13,
     "metadata": {},
     "output_type": "execute_result"
    }
   ],
   "source": [
    "intro = \"      Hello, I am Harish Shrinivas     \"\n",
    "intro1 = intro.strip()\n",
    "intro1"
   ]
  }
 ],
 "metadata": {
  "kernelspec": {
   "display_name": "Python 3",
   "language": "python",
   "name": "python3"
  },
  "language_info": {
   "codemirror_mode": {
    "name": "ipython",
    "version": 3
   },
   "file_extension": ".py",
   "mimetype": "text/x-python",
   "name": "python",
   "nbconvert_exporter": "python",
   "pygments_lexer": "ipython3",
   "version": "3.8.8"
  }
 },
 "nbformat": 4,
 "nbformat_minor": 5
}
