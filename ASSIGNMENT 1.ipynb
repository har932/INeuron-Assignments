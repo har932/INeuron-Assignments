{
 "cells": [
  {
   "cell_type": "markdown",
   "id": "7782db90",
   "metadata": {},
   "source": [
    "1. In the below elements which of them are values or an expression? eg:- values can be integer or string and expressions will be mathematical operators.\n",
    "Ans: * - expressions\n",
    "     'hello' - values\n",
    "    '-87.8'  - values\n",
    "      '-' -  expressions\n",
    "      '/' - expressions\n",
    "     '+' - expressions\n",
    "     '6' - values"
   ]
  },
  {
   "cell_type": "markdown",
   "id": "781a4076",
   "metadata": {},
   "source": [
    "2. What is the difference between string and variable?\n",
    "Ans: A string is a type of variable which accepts only any value within double and single quotes. A variable is the basic storage which is used to assign a memory location to a data."
   ]
  },
  {
   "cell_type": "markdown",
   "id": "956e6bef",
   "metadata": {},
   "source": [
    "3. Describe three different data types.\n",
    "Ans: Dictionary – This datatype stores data in the key and value format. They are defined by curly braces {}.\n",
    "     Ex:- names = {1:\"Harish\", 2:\"Girish\"}\n",
    "    Sets – This datatype is also written with curly braces. But the difference between sets and dictionary is that sets are not            mutable. Unlike dictionary, they are just a collection of data with out the key-value pair arrangement.\n",
    "           Ex – A = {1,2,3,4}\n",
    "    Tuple – This is also written in round braces () and the contents of a tuple are immutable and hence cannot be changed. As a             result very few operations can be performed on it.\n",
    "            Ex – A = (1,2,3,4)"
   ]
  },
  {
   "cell_type": "markdown",
   "id": "a30668b5",
   "metadata": {},
   "source": [
    "4. What is an expression made up of? What do all expressions do?\n",
    "Ans: A sequence of operators and operands is called Expression. An expression performs a calculation using operators and operands."
   ]
  },
  {
   "cell_type": "markdown",
   "id": "57e253d7",
   "metadata": {},
   "source": [
    "5. This assignment statements, like spam = 10. What is the difference between an expression and a statement?\n",
    "Ans: An Expression performs a calculation. \n",
    "     Ex – a = 5, b = 6, a + b = c."
   ]
  },
  {
   "cell_type": "markdown",
   "id": "026651cd",
   "metadata": {},
   "source": [
    "6. After running the following code, what does the variable bacon contain?\n",
    "bacon = 22\n",
    "bacon + 1\n",
    "Ans: 22"
   ]
  },
  {
   "cell_type": "markdown",
   "id": "5a98c8e5",
   "metadata": {},
   "source": [
    "7. What should the values of the following two terms be?\n",
    "'spam' + 'spamspam'\n",
    "Answer: \"spamspamspam\"\n",
    "'spam' * 3\n",
    "Answer: \"spamspamspam\""
   ]
  },
  {
   "cell_type": "markdown",
   "id": "45865491",
   "metadata": {},
   "source": [
    "8. Why is eggs a valid variable name while 100 is invalid?\n",
    "Ans: A variable name cannot take a number form. But eggs is string. So eggs can be a valid variable name while 100 is not"
   ]
  },
  {
   "cell_type": "markdown",
   "id": "329d6199",
   "metadata": {},
   "source": [
    "9. What three functions can be used to get the integer, floating-point number, or string version of a value?\n",
    "Ans: int(), float(), str() are the three functions which can be used to get the respective value.\n",
    "Ex - a = 500\n",
    "b = int(a)\n",
    "c = float(a)\n",
    "d =str(a)\n",
    "print(a,b,c,d)"
   ]
  },
  {
   "cell_type": "markdown",
   "id": "0163b7fd",
   "metadata": {},
   "source": [
    "10. Why does this expression cause an error? How can you fix it?\n",
    "'I have eaten ' + 99 + ' burritos.'\n",
    "Answer: addition of a string to a integer is not supported. This can be corrected by typing in the command as follows.\n",
    "“I have eaten” + “99” + “Burritos”"
   ]
  }
 ],
 "metadata": {
  "kernelspec": {
   "display_name": "Python 3 (ipykernel)",
   "language": "python",
   "name": "python3"
  },
  "language_info": {
   "codemirror_mode": {
    "name": "ipython",
    "version": 3
   },
   "file_extension": ".py",
   "mimetype": "text/x-python",
   "name": "python",
   "nbconvert_exporter": "python",
   "pygments_lexer": "ipython3",
   "version": "3.9.7"
  }
 },
 "nbformat": 4,
 "nbformat_minor": 5
}
