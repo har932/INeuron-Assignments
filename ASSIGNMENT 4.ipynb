{
 "cells": [
  {
   "cell_type": "markdown",
   "id": "b27bdd0f",
   "metadata": {},
   "source": [
    "1.What exactly is []?\n",
    "Ans:[] is a list. An empty list is declared using the [] symbol while a new list of elements is declared by putting\n",
    "    elements inside the list.\n",
    "    Ex: l = []#empty list\n",
    "        l0 = [1,2,3,4,5] #list with elements."
   ]
  },
  {
   "cell_type": "markdown",
   "id": "fb6ba900",
   "metadata": {},
   "source": [
    "2.In a list of values stored in a variable called spam, how would you assign the value 'hello' as the third value? (Assume [2, 4, 6, 8, 10] are in spam.)\n",
    "Ans:spam = [2,4,6,8,10]\n",
    "    spam.insert(2,\"hello\")"
   ]
  },
  {
   "cell_type": "markdown",
   "id": "bbd9327b",
   "metadata": {},
   "source": [
    "spam = ['a','b','c','d'] #for the next three quesries this is the value of spam."
   ]
  },
  {
   "cell_type": "markdown",
   "id": "4e9565db",
   "metadata": {},
   "source": [
    "3.What is the value of spam[int(int('3' * 2) / 11)]?\n",
    "Ans:d"
   ]
  },
  {
   "cell_type": "markdown",
   "id": "27f5eb3e",
   "metadata": {},
   "source": [
    "4.What is the value of spam[-1]?\n",
    "Ans:spam[-1]= 'd'"
   ]
  },
  {
   "cell_type": "markdown",
   "id": "f650d044",
   "metadata": {},
   "source": [
    "5.What is the value of spam[:2]?\n",
    "Ans:a,b"
   ]
  },
  {
   "cell_type": "markdown",
   "id": "bb6945e4",
   "metadata": {},
   "source": [
    "Let's pretend bacon has the list [3.14,'cat', 11,'cat', True] for the next three questions."
   ]
  },
  {
   "cell_type": "markdown",
   "id": "81688728",
   "metadata": {},
   "source": [
    "6.What is the value of bacon.index('cat')?\n",
    "Ans:1"
   ]
  },
  {
   "cell_type": "markdown",
   "id": "5de31d1f",
   "metadata": {},
   "source": [
    "7.How does bacon.append(99) change the look of the list value in bacon?\n",
    "Ans:[3.14, 'cat,' 11, 'cat,' True, 99]"
   ]
  },
  {
   "cell_type": "markdown",
   "id": "6015b5b7",
   "metadata": {},
   "source": [
    "8.How does bacon.remove('cat') change the look of the list in bacon?\n",
    "Ans:It removes the first occurance of the element."
   ]
  },
  {
   "cell_type": "markdown",
   "id": "840e6d64",
   "metadata": {},
   "source": [
    "9.What are the list concatenation and list replication operators?\n",
    "Ans:Concatenation operators are extend. \n",
    "    Ex: list1 = [1,2,3,4], list2 = [5,6,7,8]\n",
    "        list1.extend(list2)\n",
    "    Replication is done using copy. \n",
    "    list3= list1.copy()"
   ]
  },
  {
   "cell_type": "markdown",
   "id": "cdf29a38",
   "metadata": {},
   "source": [
    "10.What is difference between the list methods append() and insert()?\n",
    "Ans:Append() adds the new element to the end of the list.\n",
    "    insert() adds the new element to the given index.\n",
    "    ex:\n",
    "        list1 = [1,2,3,4,5]\n",
    "        list1.append(6)\n",
    "        new_list1 = [1,2,3,4,5,6]\n",
    "        list1.insert(3,4)\n",
    "        new_list2 = [1,2,3,6,4,5]"
   ]
  },
  {
   "cell_type": "markdown",
   "id": "b5c27368",
   "metadata": {},
   "source": [
    "11.What are the two methods for removing items from a list?\n",
    "Ans:pop() and remove() are two methods for removing elements from a list."
   ]
  },
  {
   "cell_type": "markdown",
   "id": "502afbda",
   "metadata": {},
   "source": [
    "12.Describe how list values and string values are identical.\n",
    "Ans:List values can be iterated over same as string values."
   ]
  },
  {
   "cell_type": "markdown",
   "id": "89ca934b",
   "metadata": {},
   "source": [
    "13.What's the difference between tuples and lists?\n",
    "Ans:Tuples cannot be modified and can be used in case of data that need heavy security. Lists can be modified."
   ]
  },
  {
   "cell_type": "markdown",
   "id": "e0fc023d",
   "metadata": {},
   "source": [
    "14.How do you type a tuple value that only contains the integer 42?\n",
    "Ans:t = (42)"
   ]
  },
  {
   "cell_type": "markdown",
   "id": "05125568",
   "metadata": {},
   "source": [
    "15.How do you get a list value's tuple form? How do you get a tuple value's list form?\n",
    "Ans:A list values tuple form can be formed by declaring it as a tuple.\n",
    "    Ex:l1 = [1,2,3]\n",
    "    lt = tuple(l1)\n",
    "    A tuple values list form can be formed by declaring it as a list.\n",
    "    lt = (1,2,3)\n",
    "    l2 = list(lt)"
   ]
  },
  {
   "cell_type": "markdown",
   "id": "3b2ce152",
   "metadata": {},
   "source": [
    "16.Variables that \"contain\" list values are not necessarily lists themselves. Instead, what do they contain?\n",
    "Ans:l = (1,2,3,[4,5,6])\n",
    "    This is an example of a tuple which contains a list of items inside them too."
   ]
  },
  {
   "cell_type": "markdown",
   "id": "45b9df9a",
   "metadata": {},
   "source": [
    "17.How do you distinguish between copy.copy() and copy.deepcopy()?\n",
    "Ans:In a shallow copy, the changes introduced in the copied new variable is also reflected in the original variable. \n",
    "    In a deep copy, the changes introduced in the copied new variable is not reflected in the original variable."
   ]
  }
 ],
 "metadata": {
  "kernelspec": {
   "display_name": "Python 3",
   "language": "python",
   "name": "python3"
  },
  "language_info": {
   "codemirror_mode": {
    "name": "ipython",
    "version": 3
   },
   "file_extension": ".py",
   "mimetype": "text/x-python",
   "name": "python",
   "nbconvert_exporter": "python",
   "pygments_lexer": "ipython3",
   "version": "3.8.8"
  }
 },
 "nbformat": 4,
 "nbformat_minor": 5
}
