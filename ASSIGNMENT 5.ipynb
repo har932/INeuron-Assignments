{
 "cells": [
  {
   "cell_type": "markdown",
   "id": "4b757b9c",
   "metadata": {},
   "source": [
    "1.What does an empty dictionary's code look like?\n",
    "Ans:dict1 = {} "
   ]
  },
  {
   "cell_type": "markdown",
   "id": "42cc020f",
   "metadata": {},
   "source": [
    "2.What is the value of a dictionary value with the key 'foo' and the value 42?\n",
    "Ans:42"
   ]
  },
  {
   "cell_type": "code",
   "execution_count": 2,
   "id": "6349133d",
   "metadata": {},
   "outputs": [],
   "source": [
    "dict1 = {1:{\"foo\":42}}"
   ]
  },
  {
   "cell_type": "code",
   "execution_count": 3,
   "id": "1847aa97",
   "metadata": {},
   "outputs": [
    {
     "name": "stdout",
     "output_type": "stream",
     "text": [
      "dict_values([42])\n"
     ]
    }
   ],
   "source": [
    "for i in dict1.values():\n",
    "    print(i.values())"
   ]
  },
  {
   "cell_type": "markdown",
   "id": "09c9b039",
   "metadata": {},
   "source": [
    "3.What is the most significant distinction between a dictionary and a list?\n",
    "Ans:A dictionary is in the form of a key-value pair.\n",
    "    Ex:\n",
    "    dict1 = {1:{\"foo\":42}} \n",
    "    While a list is a collection of elements.\n",
    "    Ex:\n",
    "        l1 = [1,2,3,4]  "
   ]
  },
  {
   "cell_type": "markdown",
   "id": "6d09388d",
   "metadata": {},
   "source": [
    "4.What happens if you try to access spam['foo'] if spam is {'bar': 100}?\n",
    "Ans:It throws \"keyError\" as it couldnt not find the wrong key."
   ]
  },
  {
   "cell_type": "markdown",
   "id": "8b0f8cc6",
   "metadata": {},
   "source": [
    "5.If a dictionary is stored in spam, what is the difference between the expressions 'cat' in spam and 'cat' in spam.keys()?\n",
    "Ans:'cat' in spam is a string, while 'cat' in spam.keys() is a key in the dictionary inside the spam."
   ]
  },
  {
   "cell_type": "markdown",
   "id": "45007148",
   "metadata": {},
   "source": [
    "6.If a dictionary is stored in spam, what is the difference between the expressions 'cat' in spam and 'cat' in\n",
    "spam.values()?\n",
    "Ans:'cat' in spam is a string, while 'cat' in spam.keys() is a value of a key in the dictionary inside the spam."
   ]
  },
  {
   "cell_type": "markdown",
   "id": "6992e204",
   "metadata": {},
   "source": [
    "7.What is a shortcut for the following code?\n",
    "if 'color' not in spam:\n",
    "spam['color'] = 'black'\n",
    "Ans:"
   ]
  },
  {
   "cell_type": "code",
   "execution_count": 8,
   "id": "c1562d6d",
   "metadata": {},
   "outputs": [
    {
     "name": "stdout",
     "output_type": "stream",
     "text": [
      "[{'age': 21, 'course': 'Data science', 'name': 'Harish'},\n",
      " {'Name': 'Divya', 'age': 21, 'course': 'Commerce'},\n",
      " {'age': 22, 'course': 'science', 'name': 'Girish'}]\n",
      "[{'name': 'Harish', 'age': 21, 'course': 'Data science'}, {'Name': 'Divya', 'age': 21, 'course': 'Commerce'}, {'name': 'Girish', 'age': 22, 'course': 'science'}]\n"
     ]
    }
   ],
   "source": [
    "# 8.How do you \"pretty print\" dictionary values using which module and function?\n",
    "# Ans:\n",
    "import pprint\n",
    "dict1= [{\"name\":\"Harish\", \"age\":21, \"course\":\"Data science\"}, {\"Name\":\"Divya\", \"age\":21, \"course\":\"Commerce\"}, {\"name\":\"Girish\", \"age\":22, \"course\":\"science\"}]\n",
    "pprint.pprint(dict1)\n",
    "print(dict1)"
   ]
  },
  {
   "cell_type": "code",
   "execution_count": null,
   "id": "bd40a452",
   "metadata": {},
   "outputs": [],
   "source": []
  }
 ],
 "metadata": {
  "kernelspec": {
   "display_name": "Python 3",
   "language": "python",
   "name": "python3"
  },
  "language_info": {
   "codemirror_mode": {
    "name": "ipython",
    "version": 3
   },
   "file_extension": ".py",
   "mimetype": "text/x-python",
   "name": "python",
   "nbconvert_exporter": "python",
   "pygments_lexer": "ipython3",
   "version": "3.8.8"
  }
 },
 "nbformat": 4,
 "nbformat_minor": 5
}
